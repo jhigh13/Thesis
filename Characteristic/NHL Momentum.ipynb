{
 "cells": [
  {
   "cell_type": "code",
   "execution_count": 1,
   "metadata": {},
   "outputs": [],
   "source": [
    "import pandas as pd\n",
    "import numpy as np\n",
    "import statsmodels.formula.api as sm\n",
    "\n",
    "df = pd.read_stata('Returns/MLB/MLBFavReturnsnovig.dta.')\n",
    "df['AwayWins'] = 0\n",
    "df['AwaySpread'] = 0\n",
    "df['AwayReturns'] = 0\n",
    "df['HomeWins'] = 0\n",
    "df['HomeSpread'] = 0\n",
    "df['HomeReturns'] = 0\n",
    "\n",
    "\n",
    "teams = pd.concat([df['awayteam'],df['hometeam']]).unique()\n",
    "teamDict = {}\n",
    "for team in teams:\n",
    "    teamDict[team] = {'wins':[], 'spread':[], 'returns':[], 'games':0}\n",
    "\n",
    "df['year'] = df['date'] //10000\n",
    "#print(df['awayspreadopenodds'])"
   ]
  },
  {
   "cell_type": "code",
   "execution_count": 2,
   "metadata": {},
   "outputs": [],
   "source": [
    "year = 2008\n",
    "momentum = ['wins', 'spread', 'returns']\n",
    "N = 4\n",
    "GAMES = 1230"
   ]
  },
  {
   "cell_type": "code",
   "execution_count": 3,
   "metadata": {},
   "outputs": [],
   "source": [
    "for index, row in df.iterrows():\n",
    "    awayteam = row['awayteam']\n",
    "    hometeam = row['hometeam']\n",
    "\n",
    "    curyear = row['year']\n",
    "    if curyear != year:\n",
    "        year = curyear\n",
    "        for team in teamDict: \n",
    "            for x in momentum:\n",
    "                for i in range(len(teamDict[team][x])):\n",
    "                    teamDict[team][x].pop(0)\n",
    "            teamDict[team]['games'] = 0\n",
    "\n",
    "    wins = 0\n",
    "    spread = 0\n",
    "    returns = 0\n",
    "    for i in range(len(teamDict[awayteam]['wins'])):\n",
    "        wins += teamDict[awayteam]['wins'][i]\n",
    "        spread += teamDict[awayteam]['spread'][i]\n",
    "        returns += teamDict[awayteam]['returns'][i]\n",
    "    df.loc[[index],['AwayWins']] = (wins / N)\n",
    "    df.loc[[index],['AwaySpread']] = spread\n",
    "    df.loc[[index],['AwayReturns']] = (returns / N)\n",
    "    df.loc[[index],['AwayGames']] = teamDict[awayteam]['games']\n",
    "\n",
    "    wins = 0\n",
    "    spread = 0\n",
    "    returns = 0\n",
    "    for i in range(len(teamDict[hometeam]['wins'])):\n",
    "        wins += teamDict[hometeam]['wins'][i]\n",
    "        spread += teamDict[hometeam]['spread'][i]\n",
    "        returns += teamDict[hometeam]['returns'][i]\n",
    "    df.loc[[index],['HomeWins']] = (wins / N)\n",
    "    df.loc[[index],['HomeSpread']] = spread\n",
    "    df.loc[[index],['HomeReturns']] = (returns / N)\n",
    "    df.loc[[index],['HomeGames']] = teamDict[hometeam]['games']\n",
    "\n",
    "    if len(teamDict[awayteam]['wins']) > N-1:\n",
    "        teamDict[awayteam]['wins'].pop(0)\n",
    "        teamDict[awayteam]['spread'].pop(0)\n",
    "        teamDict[awayteam]['returns'].pop(0)\n",
    "    if len(teamDict[hometeam]['wins']) > N-1:\n",
    "        teamDict[hometeam]['wins'].pop(0)\n",
    "        teamDict[hometeam]['spread'].pop(0)\n",
    "        teamDict[hometeam]['returns'].pop(0)\n",
    "\n",
    "\n",
    "    if row['awayscore'] > row['homescore']:\n",
    "        teamDict[awayteam]['wins'].append(1)\n",
    "        teamDict[hometeam]['wins'].append(0)\n",
    "        \n",
    "    else:\n",
    "        teamDict[hometeam]['wins'].append(1)\n",
    "        teamDict[awayteam]['wins'].append(0)\n",
    "\n",
    "\n",
    "    teamDict[awayteam]['spread'].append(row['awayscore'] - row['homescore'])\n",
    "    teamDict[hometeam]['spread'].append(row['homescore'] - row['awayscore'])\n",
    "\n",
    "    if row['homescore'] - row['awayscore'] > 1.5 and row['homemlopen'] <= 100:\n",
    "        teamDict[hometeam]['returns'].append(1)\n",
    "        teamDict[awayteam]['returns'].append(0)\n",
    "    elif row['homescore'] - row['awayscore'] < 1.5 and row['homemlopen'] < 100: \n",
    "        teamDict[awayteam]['returns'].append(1)\n",
    "        teamDict[hometeam]['returns'].append(0)\n",
    "    elif row['awayscore'] - row['homescore'] > 1.5 and row['awaymlopen'] < 100:\n",
    "        teamDict[awayteam]['returns'].append(1)\n",
    "        teamDict[hometeam]['returns'].append(0)\n",
    "    else:\n",
    "        teamDict[hometeam]['returns'].append(1)\n",
    "        teamDict[awayteam]['returns'].append(0)\n",
    "\n",
    "    teamDict[awayteam]['games'] += 1\n",
    "    teamDict[hometeam]['games'] += 1"
   ]
  },
  {
   "cell_type": "code",
   "execution_count": 4,
   "metadata": {},
   "outputs": [],
   "source": [
    "df['AwayWins'] = (df['AwayWins'] - df['AwayWins'].mean()) / df['AwayWins'].std()\n",
    "df['AwaySpread'] = (df['AwaySpread'] - df['AwaySpread'].mean()) / df['AwaySpread'].std()\n",
    "df['AwayReturns'] = (df['AwayReturns'] - df['AwayReturns'].mean()) / df['AwayReturns'].std()\n",
    "df['HomeWins'] = (df['HomeWins'] - df['HomeWins'].mean()) / df['HomeWins'].std()\n",
    "df['HomeSpread'] = (df['HomeSpread'] - df['HomeSpread'].mean()) / df['HomeSpread'].std()\n",
    "df['HomeReturns'] = (df['HomeReturns'] - df['HomeReturns'].mean()) / df['HomeReturns'].std()"
   ]
  },
  {
   "cell_type": "code",
   "execution_count": 5,
   "metadata": {},
   "outputs": [],
   "source": [
    "df['AwayChar'] = df['AwayWins'] + df['AwaySpread'] + df['AwayReturns']\n",
    "df['HomeChar'] = df['HomeWins'] + df['HomeSpread'] + df['HomeReturns']"
   ]
  },
  {
   "cell_type": "code",
   "execution_count": 6,
   "metadata": {},
   "outputs": [],
   "source": [
    "chardf = df.copy(deep=True)\n",
    "chardf[(chardf.HomeGames < N) | (chardf.AwayGames < N)].index\n",
    "chardf.drop(chardf[(chardf.HomeGames < N) | (chardf.AwayGames < N)].index, inplace= True)"
   ]
  },
  {
   "cell_type": "code",
   "execution_count": 7,
   "metadata": {},
   "outputs": [],
   "source": [
    "chardf['Momentum'] = np.where(chardf['homemlopen'] < 0, (chardf['HomeChar'] - chardf['AwayChar']), (chardf['AwayChar'] - chardf['HomeChar']))\n",
    "chardf['games'] = chardf.groupby('date')['date'].transform('size')\n",
    "chardf['ranks'] = chardf.groupby('date')['Momentum'].rank()\n",
    "\n",
    "chardf['thresh'] = chardf.ranks / chardf.games\n",
    "chardf['buy'] = chardf['thresh'].ge(.8)\n",
    "chardf['sell'] = chardf['thresh'].le(.2)\n",
    "#chardf.to_stata('NHLSpreadChar.dta')"
   ]
  },
  {
   "cell_type": "code",
   "execution_count": 8,
   "metadata": {},
   "outputs": [],
   "source": [
    "chardf['overMom'] = chardf['HomeChar'] + chardf['AwayChar']\n",
    "chardf['overRanks'] = chardf.groupby('date')['overMom'].rank()\n",
    "\n",
    "chardf['overthresh'] = chardf.overRanks / chardf.games\n",
    "chardf['overBuy'] = chardf['overthresh'].ge(.8)\n",
    "chardf['overSell'] = chardf['overthresh'].le(.2)"
   ]
  },
  {
   "cell_type": "code",
   "execution_count": 9,
   "metadata": {},
   "outputs": [],
   "source": [
    "chardf['weight'] = chardf['buy'] / chardf['games'] - chardf['sell'] / chardf['games']\n",
    "\n",
    "chardf['smallmlocreturn'] = chardf['weight'] * chardf['mlocreturn']\n",
    "chardf['smallmlclosereturn'] = chardf['weight'] * chardf['mlclosereturn']\n",
    "\n",
    "chardf['overWeight'] = chardf['overBuy'] / chardf['games'] - chardf['overSell'] / chardf['games']\n",
    "chardf['smalloverocreturn'] = chardf['overWeight'] * chardf['overocreturn']\n",
    "chardf['smalloverclosereturn'] = chardf['overWeight'] * chardf['overclosereturn']\n",
    "\n",
    "#chardf.to_stata('NHLSpreadChar.dta')"
   ]
  },
  {
   "cell_type": "code",
   "execution_count": 10,
   "metadata": {},
   "outputs": [
    {
     "name": "stdout",
     "output_type": "stream",
     "text": [
      "mlocreturn        3.955324\n",
      "mlclosereturns   -3.965506\n",
      "mlopenreturn     -0.010182\n",
      "mltrading         7.920830\n",
      "dtype: float64\n",
      "mlocreturn        1.494615\n",
      "mlclosereturns   -0.629791\n",
      "mlopenreturn     -0.001606\n",
      "mltrading         1.086969\n",
      "dtype: float64\n",
      "{'mlocreturn': 3.5012958484144465, 'mlclosereturns': -1.4753517373104914, 'mlopenreturn': -0.00376193506491524, 'mltrading': 2.54634010043041}\n"
     ]
    }
   ],
   "source": [
    "weights  = chardf[chardf.weight != 0]\n",
    "\n",
    "NHLmommlret = pd.DataFrame(weights.groupby('date')['smallmlocreturn'].sum())\n",
    "NHLmommlret.rename(columns = {'smallmlocreturn':'mlocreturn'}, inplace=True)\n",
    "NHLmommlret['mlclosereturns'] = weights.groupby('date')['smallmlclosereturn'].sum()\n",
    "NHLmommlret['mlopenreturn'] = NHLmommlret['mlocreturn'] + NHLmommlret['mlclosereturns']\n",
    "NHLmommlret['mltrading'] = NHLmommlret['mlocreturn'] - NHLmommlret['mlclosereturns']\n",
    "\n",
    "means = NHLmommlret.mean()*GAMES * 2/5\n",
    "std = NHLmommlret.std() * np.sqrt(GAMES) * np.sqrt(2/5)\n",
    "print(means)\n",
    "print(means / std)\n",
    "\n",
    "returns = ['mlocreturn', 'mlclosereturns', 'mlopenreturn', 'mltrading']\n",
    "tstats = {}\n",
    "for x in returns:\n",
    "    tstats[x] = sm.ols(formula=\"{}~1\".format(x), data = NHLmommlret).fit().tvalues['Intercept']\n",
    "print(tstats)\n",
    "\n",
    "#NFLmomspreadret.to_stata('NHLmlTrading.dta')"
   ]
  },
  {
   "cell_type": "code",
   "execution_count": 11,
   "metadata": {},
   "outputs": [
    {
     "name": "stdout",
     "output_type": "stream",
     "text": [
      "overocreturn        0.327874\n",
      "overclosereturns   -2.775069\n",
      "overopenreturn     -2.447195\n",
      "overtrading         3.102943\n",
      "dtype: float64\n",
      "overocreturn        0.202827\n",
      "overclosereturns   -0.391631\n",
      "overopenreturn     -0.345656\n",
      "overtrading         0.416427\n",
      "dtype: float64\n",
      "{'overocreturn': 0.4751427628165468, 'overclosereturns': -0.9174375990962197, 'overopenreturn': -0.8097368710578063, 'overtrading': 0.9755234651140425}\n"
     ]
    }
   ],
   "source": [
    "overweights  = chardf[chardf.overWeight != 0]\n",
    "NHLmomoverret = pd.DataFrame(overweights.groupby('date')['smalloverocreturn'].sum())\n",
    "NHLmomoverret.rename(columns = {'smalloverocreturn':'overocreturn'}, inplace=True)\n",
    "NHLmomoverret['overclosereturns'] = overweights.groupby('date')['smalloverclosereturn'].sum() \n",
    "NHLmomoverret['overopenreturn'] = NHLmomoverret['overocreturn'] + NHLmomoverret['overclosereturns']\n",
    "NHLmomoverret['overtrading'] = NHLmomoverret['overocreturn'] - NHLmomoverret['overclosereturns']\n",
    "\n",
    "means = NHLmomoverret.mean()*GAMES * 2/5\n",
    "std = NHLmomoverret.std() * np.sqrt(GAMES) * np.sqrt(2/5)\n",
    "print(means)\n",
    "print(means / std)\n",
    "\n",
    "returns = ['overocreturn', 'overclosereturns', 'overopenreturn', 'overtrading']\n",
    "tstats = {}\n",
    "for x in returns:\n",
    "    tstats[x] = sm.ols(formula=\"{}~1\".format(x), data = NHLmomoverret).fit().tvalues['Intercept']\n",
    "print(tstats)\n"
   ]
  }
 ],
 "metadata": {
  "kernelspec": {
   "display_name": "Python 3",
   "language": "python",
   "name": "python3"
  },
  "language_info": {
   "codemirror_mode": {
    "name": "ipython",
    "version": 3
   },
   "file_extension": ".py",
   "mimetype": "text/x-python",
   "name": "python",
   "nbconvert_exporter": "python",
   "pygments_lexer": "ipython3",
   "version": "3.11.0"
  },
  "orig_nbformat": 4
 },
 "nbformat": 4,
 "nbformat_minor": 2
}
