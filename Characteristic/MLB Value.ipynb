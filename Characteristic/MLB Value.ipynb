{
 "cells": [
  {
   "cell_type": "code",
   "execution_count": 1,
   "metadata": {},
   "outputs": [],
   "source": [
    "import pandas as pd\n",
    "import numpy as np\n",
    "import statsmodels.formula.api as sm\n",
    "\n",
    "df = pd.read_stata('Returns/MLB/MLBHomeReturnsnovig.dta')\n",
    "df['Awaypointsfor'] = 0\n",
    "df['Awaypointsagainst'] = 0\n",
    "df['Homepointsfor'] = 0\n",
    "df['Homepointsagainst'] = 0\n",
    "df['AwayPayroll'] = 0\n",
    "df['HomePayroll'] = 0\n",
    "df['Homelagreturns'] = 0\n",
    "df['Awaylagreturns'] = 0\n",
    "\n",
    "dropteams = ['American', 'National', 'AL', 'NL', 'STF', 'ALT', 'STF']\n",
    "\n",
    "df = df[~df['awayteam'].isin(dropteams)]\n",
    "df = df[~df['hometeam'].isin(dropteams)]\n",
    "teams = pd.concat([df['awayteam'],df['hometeam']]).unique()\n",
    "\n",
    "teamDict = {}\n",
    "for team in teams:\n",
    "    teamDict[team] = {'pfor':[], 'pagainst':[], 'lagreturns':0, 'seasonret': 0}\n",
    "\n",
    "df['year'] = df['date'] //10000"
   ]
  },
  {
   "cell_type": "code",
   "execution_count": 2,
   "metadata": {},
   "outputs": [],
   "source": [
    "payroll = pd.read_excel('MLB Payroll.xlsx', index_col=0)"
   ]
  },
  {
   "cell_type": "code",
   "execution_count": 3,
   "metadata": {},
   "outputs": [],
   "source": [
    "year = 2009\n",
    "value = ['pfor', 'pagainst']\n",
    "GAMES = 2430\n",
    "N = 40\n",
    "PYTHAG = 1.83"
   ]
  },
  {
   "cell_type": "code",
   "execution_count": 4,
   "metadata": {},
   "outputs": [],
   "source": [
    "for index, row in df.iterrows():\n",
    "    awayteam = row['awayteam']\n",
    "    hometeam = row['hometeam']\n",
    "\n",
    "\n",
    "    curyear = row['year']\n",
    "    if curyear == 2023:\n",
    "        break\n",
    "    if curyear != year:\n",
    "        year = curyear\n",
    "        for team in teamDict: \n",
    "            teamDict[team]['lagreturns'] = teamDict[team]['seasonret']\n",
    "            teamDict[team]['seasonret'] = 0\n",
    "\n",
    "    pfor = 0\n",
    "    pagainst = 0\n",
    "    \n",
    "    for i in range(len(teamDict[awayteam]['pfor'])):\n",
    "        pfor += teamDict[awayteam]['pfor'][i]\n",
    "        pagainst += teamDict[awayteam]['pagainst'][i]\n",
    "    df.loc[[index],['Awaypointsfor']] = (pfor / N)\n",
    "    df.loc[[index],['Awaypointsagainst']] = (pagainst / N)\n",
    "\n",
    "    pfor = 0\n",
    "    pagainst = 0\n",
    "    for i in range(len(teamDict[hometeam]['pfor'])):\n",
    "        pfor += teamDict[hometeam]['pfor'][i]\n",
    "        pagainst += teamDict[hometeam]['pagainst'][i]\n",
    "    df.loc[[index],['Homepointsfor']] = (pfor / N)\n",
    "    df.loc[[index],['Homepointsagainst']] = (pagainst / N)\n",
    "\n",
    "    if len(teamDict[awayteam]['pfor']) > N-1:\n",
    "        teamDict[awayteam]['pfor'].pop(0)\n",
    "        teamDict[awayteam]['pagainst'].pop(0)\n",
    "    if len(teamDict[hometeam]['pfor']) > N-1:\n",
    "        teamDict[hometeam]['pfor'].pop(0)\n",
    "        teamDict[hometeam]['pagainst'].pop(0)\n",
    "\n",
    "    teamDict[awayteam]['pfor'].append(row['awayscore'])\n",
    "    teamDict[awayteam]['pagainst'].append(row['homescore'])\n",
    "    teamDict[hometeam]['pfor'].append(row['homescore'])\n",
    "    teamDict[hometeam]['pagainst'].append(row['awayscore'])\n",
    "\n",
    "    teamDict[hometeam]['seasonret'] += 1. * df.at[index, 'mlhomeopenreturn']\n",
    "    \n",
    "    awaypayroll = payroll.at[awayteam, year]\n",
    "    homepayroll = payroll.at[hometeam, year]\n",
    "    df.loc[[index], ['AwayPayroll']] = (awaypayroll - homepayroll) * 10 ** -7\n",
    "    df.loc[[index], ['HomePayroll']] = (homepayroll - awaypayroll) * 10 ** -7\n",
    "    df.loc[[index], ['Homelagreturns']] = -1 * teamDict[hometeam]['lagreturns']"
   ]
  },
  {
   "cell_type": "code",
   "execution_count": 5,
   "metadata": {},
   "outputs": [],
   "source": [
    "df['AwayWinEx'] = (df['Awaypointsfor'] ** PYTHAG / (df['Awaypointsfor'] ** PYTHAG + df['Awaypointsagainst'] ** PYTHAG))\n",
    "df['HomeWinEx'] = (df['Homepointsfor'] ** PYTHAG / (df['Homepointsfor'] ** PYTHAG + df['Homepointsagainst'] ** PYTHAG))\n",
    "df['Homepointdiff'] = (df['HomeWinEx'] - df['AwayWinEx']) * df['overopen']\n",
    "\n",
    "df['Homepointfund'] = np.where(df.Homepointdiff > 0,\n",
    "                                  np.where(df.homemlopen < 0, abs(df.Homepointdiff / df.homemlopen), df.Homepointdiff / (1/df.homemlopen)),\n",
    "                                  np.where(df.homemlopen < 0, -1 * df.Homepointdiff / df.homemlopen, abs(df.Homepointdiff / df.homemlopen)))\n",
    "df['Homepointpay'] = np.where(df['HomePayroll'] >0, \n",
    "                              np.where(df.homemlopen < 0, abs(df['HomePayroll'] / df.homemlopen), df['HomePayroll'] / (1/df.homemlopen)),\n",
    "                              np.where(df.homemlopen < 0, -1 * df['HomePayroll'] / df.homemlopen, abs(df['HomePayroll'] / df.homemlopen)))\n",
    "\n",
    "#df.to_stata('MLBValueChar.dta')"
   ]
  },
  {
   "cell_type": "code",
   "execution_count": 6,
   "metadata": {},
   "outputs": [],
   "source": [
    "df['Homepointfund'] = (df['Homepointfund'] - df['Homepointfund'].mean()) / df['Homepointfund'].std()\n",
    "df['Homepointpay'] = (df['Homepointpay'] - df['Homepointpay'].mean()) / df['Homepointpay'].std()\n",
    "df['Homelagreturns'] = (df['Homelagreturns'] - df['Homelagreturns'].mean()) / df['Homelagreturns'].std()"
   ]
  },
  {
   "cell_type": "code",
   "execution_count": 7,
   "metadata": {},
   "outputs": [],
   "source": [
    "df['HomeChar'] = df['Homepointfund'] + df['Homepointpay'] + df['Homelagreturns']"
   ]
  },
  {
   "cell_type": "code",
   "execution_count": 8,
   "metadata": {},
   "outputs": [],
   "source": [
    "chardf = df.copy(deep=True)\n",
    "chardf.drop(chardf[(chardf.year == 2009)].index, inplace= True)"
   ]
  },
  {
   "cell_type": "code",
   "execution_count": 9,
   "metadata": {},
   "outputs": [],
   "source": [
    "chardf['pointValue'] = df['HomeChar']\n",
    "chardf['games'] = chardf.groupby('date')['date'].transform('size')\n",
    "chardf['ranks'] = chardf.groupby('date')['pointValue'].rank()\n",
    "\n",
    "chardf['thresh'] = chardf.ranks / chardf.games\n",
    "chardf['buy'] = chardf['thresh'].ge(.8)\n",
    "chardf['sell'] = chardf['thresh'].le(.2)\n",
    "#chardf.to_stata('MLBSpreadChar.dta')"
   ]
  },
  {
   "cell_type": "code",
   "execution_count": 10,
   "metadata": {},
   "outputs": [],
   "source": [
    "chardf['overMom'] = chardf['HomeChar']\n",
    "chardf['overRanks'] = chardf.groupby('date')['overMom'].rank()\n",
    "\n",
    "chardf['overthresh'] = chardf.overRanks / chardf.games\n",
    "chardf['overBuy'] = chardf['overthresh'].ge(.8)\n",
    "chardf['overSell'] = chardf['overthresh'].le(.2)"
   ]
  },
  {
   "cell_type": "code",
   "execution_count": 11,
   "metadata": {},
   "outputs": [],
   "source": [
    "chardf['weight'] = chardf['buy'] / chardf['games'] - chardf['sell'] / chardf['games']\n",
    "chardf['smallocreturn'] = chardf['weight'] * chardf['mlhomeOCreturn']\n",
    "chardf['smallclosereturn'] = chardf['weight'] * chardf['mlhomeclosereturn']\n",
    "\n",
    "#chardf.to_stata('MLBmlChar.dta')"
   ]
  },
  {
   "cell_type": "code",
   "execution_count": 12,
   "metadata": {},
   "outputs": [
    {
     "name": "stdout",
     "output_type": "stream",
     "text": [
      "mlocreturn        1.577463\n",
      "mlclosereturns    1.477107\n",
      "mlopenreturn      3.054570\n",
      "mltrading         0.100356\n",
      "dtype: float64\n",
      "mlocreturn        1.874429\n",
      "mlclosereturns    0.150373\n",
      "mlopenreturn      0.309114\n",
      "mltrading         0.010203\n",
      "dtype: float64\n",
      "{'mlocreturn': 3.0514681318224377, 'mlclosereturns': 0.2447993657990645, 'mlopenreturn': 0.5032211894957612, 'mltrading': 0.016609627485912545}\n"
     ]
    }
   ],
   "source": [
    "weights  = chardf[chardf.weight != 0]\n",
    "\n",
    "MLBmlvalret = pd.DataFrame(weights.groupby('date')['smallocreturn'].sum())\n",
    "MLBmlvalret.rename(columns = {'smallocreturn':'mlocreturn'}, inplace=True)\n",
    "MLBmlvalret['mlclosereturns'] = weights.groupby('date')['smallclosereturn'].sum()\n",
    "MLBmlvalret['mlopenreturn'] = MLBmlvalret['mlocreturn'] + MLBmlvalret['mlclosereturns']\n",
    "MLBmlvalret['mltrading'] = MLBmlvalret['mlocreturn'] - MLBmlvalret['mlclosereturns']\n",
    "\n",
    "means = MLBmlvalret.mean()*GAMES * 2/5\n",
    "std = MLBmlvalret.std() * np.sqrt(GAMES) * np.sqrt(2/5)\n",
    "print(means)\n",
    "print(means / std)\n",
    "\n",
    "returns = ['mlocreturn', 'mlclosereturns', 'mlopenreturn', 'mltrading']\n",
    "tstats = {}\n",
    "for x in returns:\n",
    "    tstats[x] = sm.ols(formula=\"{}~1\".format(x), data = MLBmlvalret).fit().tvalues['Intercept']\n",
    "print(tstats)"
   ]
  }
 ],
 "metadata": {
  "kernelspec": {
   "display_name": "Python 3",
   "language": "python",
   "name": "python3"
  },
  "language_info": {
   "codemirror_mode": {
    "name": "ipython",
    "version": 3
   },
   "file_extension": ".py",
   "mimetype": "text/x-python",
   "name": "python",
   "nbconvert_exporter": "python",
   "pygments_lexer": "ipython3",
   "version": "3.11.0"
  },
  "orig_nbformat": 4
 },
 "nbformat": 4,
 "nbformat_minor": 2
}
