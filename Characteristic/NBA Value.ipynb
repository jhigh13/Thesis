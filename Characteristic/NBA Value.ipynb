{
 "cells": [
  {
   "cell_type": "code",
   "execution_count": 1,
   "metadata": {},
   "outputs": [],
   "source": [
    "import pandas as pd\n",
    "import numpy as np\n",
    "import statsmodels.formula.api as sm\n",
    "\n",
    "df = pd.read_stata('Returns/NBA/NBAFavReturnsnovig.dta')\n",
    "df['Awaypointsfor'] = 0\n",
    "df['Awaypointsagainst'] = 0\n",
    "df['Homepointsfor'] = 0\n",
    "df['Homepointsagainst'] = 0\n",
    "df['AwayPayroll'] = 0\n",
    "df['HomePayroll'] = 0\n",
    "df['Homelagreturns'] = 0\n",
    "df['Awaylagreturns'] = 0\n",
    "\n",
    "dropteams = ['East', 'Rookies', 'Western Conference', 'World All Stars', 'West', \n",
    "             'Team World', 'Team Lebron', 'LA', 'Team Durant East', 'Sophomores', \n",
    "             'USA All Stars', 'Team USA', 'Team Stephen', 'Team Giannis', 'Team Lebron West']\n",
    "\n",
    "df = df[~df['awayteam'].isin(dropteams)]\n",
    "df = df[~df['hometeam'].isin(dropteams)]\n",
    "teams = pd.concat([df['awayteam'],df['hometeam']]).unique()\n",
    "\n",
    "teamDict = {}\n",
    "for team in teams:\n",
    "    teamDict[team] = {'pfor':[], 'pagainst':[], 'lagreturns':0, 'seasonret': 0}\n",
    "\n",
    "df['year'] = df['date'] //10000"
   ]
  },
  {
   "cell_type": "code",
   "execution_count": 2,
   "metadata": {},
   "outputs": [],
   "source": [
    "payroll = pd.read_excel('NBA Payroll.xlsx', index_col=0)"
   ]
  },
  {
   "cell_type": "code",
   "execution_count": 3,
   "metadata": {},
   "outputs": [],
   "source": [
    "year = 2006\n",
    "value = ['pfor', 'pagainst']\n",
    "GAMES = 1230\n",
    "N = 40\n",
    "PYTHAG = 13.91"
   ]
  },
  {
   "cell_type": "code",
   "execution_count": 4,
   "metadata": {},
   "outputs": [],
   "source": [
    "for index, row in df.iterrows():\n",
    "    awayteam = row['awayteam']\n",
    "    hometeam = row['hometeam']\n",
    "\n",
    "    curyear = row['year']\n",
    "    if curyear == 2023:\n",
    "        break\n",
    "    if curyear != year:\n",
    "        year = curyear\n",
    "        for team in teamDict: \n",
    "            teamDict[team]['lagreturns'] = teamDict[team]['seasonret']\n",
    "            teamDict[team]['seasonret'] = 0\n",
    "\n",
    "    pfor = 0\n",
    "    pagainst = 0\n",
    "    \n",
    "    for i in range(len(teamDict[awayteam]['pfor'])):\n",
    "        pfor += teamDict[awayteam]['pfor'][i]\n",
    "        pagainst += teamDict[awayteam]['pagainst'][i]\n",
    "    df.loc[[index],['Awaypointsfor']] = (pfor / N)\n",
    "    df.loc[[index],['Awaypointsagainst']] = (pagainst / N)\n",
    "\n",
    "    pfor = 0\n",
    "    pagainst = 0\n",
    "    for i in range(len(teamDict[hometeam]['pfor'])):\n",
    "        pfor += teamDict[hometeam]['pfor'][i]\n",
    "        pagainst += teamDict[hometeam]['pagainst'][i]\n",
    "    df.loc[[index],['Homepointsfor']] = (pfor / N)\n",
    "    df.loc[[index],['Homepointsagainst']] = (pagainst / N)\n",
    "\n",
    "    if len(teamDict[awayteam]['pfor']) > N-1:\n",
    "        teamDict[awayteam]['pfor'].pop(0)\n",
    "        teamDict[awayteam]['pagainst'].pop(0)\n",
    "    if len(teamDict[hometeam]['pfor']) > N-1:\n",
    "        teamDict[hometeam]['pfor'].pop(0)\n",
    "        teamDict[hometeam]['pagainst'].pop(0)\n",
    "\n",
    "    teamDict[awayteam]['pfor'].append(row['awayscore'])\n",
    "    teamDict[awayteam]['pagainst'].append(row['homescore'])\n",
    "    teamDict[hometeam]['pfor'].append(row['homescore'])\n",
    "    teamDict[hometeam]['pagainst'].append(row['awayscore'])\n",
    "\n",
    "    teamDict[hometeam]['seasonret'] += 1. * df.at[index, 'spreadopenreturn']\n",
    "    teamDict[awayteam]['seasonret'] += -1. * df.at[index, 'spreadopenreturn']\n",
    "\n",
    "\n",
    "    awaypayroll = payroll.at[awayteam, year]\n",
    "    homepayroll = payroll.at[hometeam, year]\n",
    "    df.loc[[index], ['AwayPayroll']] = (awaypayroll - homepayroll) * 10 ** -7\n",
    "    df.loc[[index], ['HomePayroll']] = (homepayroll - awaypayroll) * 10 ** -7\n",
    "    df.loc[[index], ['Homelagreturns']] = -1 * teamDict[hometeam]['lagreturns']"
   ]
  },
  {
   "cell_type": "code",
   "execution_count": 5,
   "metadata": {},
   "outputs": [],
   "source": [
    "df['AwayWinEx'] = (df['Awaypointsfor'] ** PYTHAG / (df['Awaypointsfor'] ** PYTHAG + df['Awaypointsagainst'] ** PYTHAG))\n",
    "df['HomeWinEx'] = (df['Homepointsfor'] ** PYTHAG / (df['Homepointsfor'] ** PYTHAG + df['Homepointsagainst'] ** PYTHAG))\n",
    "df['Homepointdiff'] = (df['HomeWinEx'] - df['AwayWinEx']) * df['overopen']\n",
    "\n",
    "df['Homepointfund'] = np.where(df.Homepointdiff > 0,\n",
    "                                  np.where(df.homespreadopen < 0, abs(df.Homepointdiff / df.homespreadopen), df.Homepointdiff / (1/df.homespreadopen)),\n",
    "                                  np.where(df.homespreadopen < 0, -1 * df.Homepointdiff / df.homespreadopen, abs(df.Homepointdiff / df.homespreadopen)))\n",
    "df['Homepointpay'] = np.where(df['HomePayroll'] >0, \n",
    "                              np.where(df.homespreadopen < 0, abs(df['HomePayroll'] / df.homespreadopen), df['HomePayroll'] / (1/df.homespreadopen)),\n",
    "                              np.where(df.homespreadopen < 0, -1 * df['HomePayroll'] / df.homespreadopen, abs(df['HomePayroll'] / df.homespreadopen)))\n",
    "#df.to_stata('NBAValueChar.dta')"
   ]
  },
  {
   "cell_type": "code",
   "execution_count": 6,
   "metadata": {},
   "outputs": [],
   "source": [
    "df['Homepointfund'] = (df['Homepointfund'] - df['Homepointfund'].mean()) / df['Homepointfund'].std()\n",
    "df['Homepointpay'] = (df['Homepointpay'] - df['Homepointpay'].mean()) / df['Homepointpay'].std()\n",
    "df['Homelagreturns'] = (df['Homelagreturns'] - df['Homelagreturns'].mean()) / df['Homelagreturns'].std()"
   ]
  },
  {
   "cell_type": "code",
   "execution_count": 7,
   "metadata": {},
   "outputs": [],
   "source": [
    "df['HomeChar'] = df['Homepointfund'] + df['Homepointpay'] + df['Homelagreturns']"
   ]
  },
  {
   "cell_type": "code",
   "execution_count": 8,
   "metadata": {},
   "outputs": [],
   "source": [
    "chardf = df.copy(deep=True)\n",
    "chardf.drop(chardf[(chardf.year == 2006) | chardf.year == 2023].index, inplace= True)"
   ]
  },
  {
   "cell_type": "code",
   "execution_count": 9,
   "metadata": {},
   "outputs": [],
   "source": [
    "chardf['pointValue'] = df['HomeChar']\n",
    "chardf['games'] = chardf.groupby('date')['date'].transform('size')\n",
    "chardf['ranks'] = chardf.groupby('date')['pointValue'].rank()\n",
    "\n",
    "chardf['thresh'] = chardf.ranks / chardf.games\n",
    "chardf['buy'] = chardf['thresh'].ge(.8)\n",
    "chardf['sell'] = chardf['thresh'].le(.2)\n",
    "#chardf.to_stata('MLBSpreadChar.dta')"
   ]
  },
  {
   "cell_type": "code",
   "execution_count": 10,
   "metadata": {},
   "outputs": [],
   "source": [
    "chardf['overMom'] = chardf['HomeChar']\n",
    "chardf['overRanks'] = chardf.groupby('date')['overMom'].rank()\n",
    "\n",
    "chardf['overthresh'] = chardf.overRanks / chardf.games\n",
    "chardf['overBuy'] = chardf['overthresh'].ge(.8)\n",
    "chardf['overSell'] = chardf['overthresh'].le(.2)"
   ]
  },
  {
   "cell_type": "code",
   "execution_count": 11,
   "metadata": {},
   "outputs": [],
   "source": [
    "chardf['weight'] = chardf['buy'] / chardf['games'] - chardf['sell'] / chardf['games']\n",
    "chardf['smallocreturn'] = chardf['weight'] * chardf['spreadocreturn']\n",
    "chardf['smallclosereturn'] = chardf['weight'] * chardf['spreadclosereturn']\n",
    "\n",
    "chardf['overWeight'] = chardf['overBuy'] / chardf['games'] - chardf['overSell'] / chardf['games']\n",
    "chardf['smalloverocreturn'] = chardf['overWeight'] * chardf['overocreturn']\n",
    "chardf['smalloverclosereturn'] = chardf['overWeight'] * chardf['overclosereturn']\n",
    "\n",
    "#chardf.to_stata('NBASpreadChar.dta')"
   ]
  },
  {
   "cell_type": "code",
   "execution_count": 13,
   "metadata": {},
   "outputs": [
    {
     "name": "stdout",
     "output_type": "stream",
     "text": [
      "spreadocreturn         5.373034\n",
      "spreadclosereturns    10.032775\n",
      "spreadopenreturn      15.405809\n",
      "spreadtrading         -4.659741\n",
      "dtype: float64\n",
      "spreadocreturn        1.029374\n",
      "spreadclosereturns    1.068957\n",
      "spreadopenreturn      1.638541\n",
      "spreadtrading        -0.390668\n",
      "dtype: float64\n",
      "{'spreadocreturn': 2.6800227674442016, 'spreadclosereturns': 2.7830781633165507, 'spreadopenreturn': 4.266018087078199, 'spreadtrading': -1.0171212912136023}\n"
     ]
    }
   ],
   "source": [
    "weights  = chardf[chardf.weight != 0]\n",
    "\n",
    "NBAvalspreadret = pd.DataFrame(weights.groupby('date')['smallocreturn'].sum())\n",
    "NBAvalspreadret.rename(columns = {'smallocreturn':'spreadocreturn'}, inplace=True)\n",
    "NBAvalspreadret['spreadclosereturns'] = weights.groupby('date')['smallclosereturn'].sum()\n",
    "NBAvalspreadret['spreadopenreturn'] = NBAvalspreadret['spreadocreturn'] + NBAvalspreadret['spreadclosereturns']\n",
    "NBAvalspreadret['spreadtrading'] = NBAvalspreadret['spreadocreturn'] - NBAvalspreadret['spreadclosereturns']\n",
    "\n",
    "means = NBAvalspreadret.mean()*GAMES * 2/5\n",
    "std = NBAvalspreadret.std() * np.sqrt(GAMES) * np.sqrt(2/5)\n",
    "print(means)\n",
    "print(means / std)\n",
    "\n",
    "returns = ['spreadocreturn', 'spreadclosereturns', 'spreadopenreturn', 'spreadtrading']\n",
    "tstats = {}\n",
    "for x in returns:\n",
    "    tstats[x] = sm.ols(formula=\"{}~1\".format(x), data = NBAvalspreadret).fit().tvalues['Intercept']\n",
    "print(tstats)"
   ]
  }
 ],
 "metadata": {
  "kernelspec": {
   "display_name": "Python 3",
   "language": "python",
   "name": "python3"
  },
  "language_info": {
   "codemirror_mode": {
    "name": "ipython",
    "version": 3
   },
   "file_extension": ".py",
   "mimetype": "text/x-python",
   "name": "python",
   "nbconvert_exporter": "python",
   "pygments_lexer": "ipython3",
   "version": "3.11.0"
  },
  "orig_nbformat": 4
 },
 "nbformat": 4,
 "nbformat_minor": 2
}
