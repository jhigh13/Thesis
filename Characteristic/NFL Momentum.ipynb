{
 "cells": [
  {
   "cell_type": "code",
   "execution_count": 1,
   "metadata": {},
   "outputs": [],
   "source": [
    "import pandas as pd\n",
    "import numpy as np\n",
    "import statsmodels.formula.api as sm\n",
    "\n",
    "df = pd.read_stata('Returns/NFL/NFLFavReturnsnovig.dta.')\n",
    "df['AwayWins'] = 0\n",
    "df['AwaySpread'] = 0\n",
    "df['AwayReturns'] = 0\n",
    "df['HomeWins'] = 0\n",
    "df['HomeSpread'] = 0\n",
    "df['HomeReturns'] = 0\n",
    "\n",
    "teams = pd.concat([df['awayteam'],df['hometeam']]).unique()\n",
    "teamDict = {}\n",
    "for team in teams:\n",
    "    teamDict[team] = {'wins':[], 'spread':[], 'returns':[], 'games':0}\n",
    "\n",
    "df['year'] = df['date'] //10000\n",
    "\n",
    "#print(df['awayspreadopenodds'])"
   ]
  },
  {
   "cell_type": "code",
   "execution_count": 2,
   "metadata": {},
   "outputs": [],
   "source": [
    "year = 2009\n",
    "momentum = ['wins', 'spread', 'returns']\n",
    "N = 3\n",
    "GAMES = 256"
   ]
  },
  {
   "cell_type": "code",
   "execution_count": 3,
   "metadata": {},
   "outputs": [],
   "source": [
    "for index, row in df.iterrows():\n",
    "    awayteam = row['awayteam']\n",
    "    hometeam = row['hometeam']\n",
    "\n",
    "    curyear = row['year']\n",
    "    if curyear != year:\n",
    "        year = curyear\n",
    "        for team in teamDict: \n",
    "            for x in momentum:\n",
    "                for i in range(len(teamDict[team][x])):\n",
    "                    teamDict[team][x].pop(0)\n",
    "            teamDict[team]['games'] = 0\n",
    "\n",
    "    wins = 0\n",
    "    spread = 0\n",
    "    returns = 0\n",
    "    for i in range(len(teamDict[awayteam]['wins'])):\n",
    "        wins += teamDict[awayteam]['wins'][i]\n",
    "        spread += teamDict[awayteam]['spread'][i]\n",
    "        returns += teamDict[awayteam]['returns'][i]\n",
    "    df.loc[[index],['AwayWins']] = (wins / N)\n",
    "    df.loc[[index],['AwaySpread']] = spread\n",
    "    df.loc[[index],['AwayReturns']] = (returns / N)\n",
    "    df.loc[[index],['AwayGames']] = teamDict[awayteam]['games']\n",
    "\n",
    "    wins = 0\n",
    "    spread = 0\n",
    "    returns = 0\n",
    "    for i in range(len(teamDict[hometeam]['wins'])):\n",
    "        wins += teamDict[hometeam]['wins'][i]\n",
    "        spread += teamDict[hometeam]['spread'][i]\n",
    "        returns += teamDict[hometeam]['returns'][i]\n",
    "    df.loc[[index],['HomeWins']] = (wins / N)\n",
    "    df.loc[[index],['HomeSpread']] = spread\n",
    "    df.loc[[index],['HomeReturns']] = (returns / N)\n",
    "    df.loc[[index],['HomeGames']] = teamDict[hometeam]['games']\n",
    "\n",
    "    if len(teamDict[awayteam]['wins']) > N-1:\n",
    "        teamDict[awayteam]['wins'].pop(0)\n",
    "        teamDict[awayteam]['spread'].pop(0)\n",
    "        teamDict[awayteam]['returns'].pop(0)\n",
    "    if len(teamDict[hometeam]['wins']) > N-1:\n",
    "        teamDict[hometeam]['wins'].pop(0)\n",
    "        teamDict[hometeam]['spread'].pop(0)\n",
    "        teamDict[hometeam]['returns'].pop(0)\n",
    "\n",
    "    if row['awayscore'] > row['homescore']:\n",
    "        teamDict[awayteam]['wins'].append(1)\n",
    "        teamDict[hometeam]['wins'].append(0)\n",
    "        \n",
    "    else:\n",
    "        teamDict[hometeam]['wins'].append(1)\n",
    "        teamDict[awayteam]['wins'].append(0)\n",
    "\n",
    "\n",
    "    teamDict[awayteam]['spread'].append(row['awayscore'] - row['homescore'])\n",
    "    teamDict[hometeam]['spread'].append(row['homescore'] - row['awayscore'])\n",
    "\n",
    "    if row['homescore'] - row['awayscore'] > -1 * row['homespreadopen']:\n",
    "        teamDict[hometeam]['returns'].append(1)\n",
    "        teamDict[awayteam]['returns'].append(0)\n",
    "    elif row['homescore'] - row['awayscore'] == -1 * row['homespreadopen']: \n",
    "        teamDict[hometeam]['returns'].append(.5)\n",
    "        teamDict[awayteam]['returns'].append(.5)\n",
    "    else:\n",
    "        teamDict[awayteam]['returns'].append(1)\n",
    "        teamDict[hometeam]['returns'].append(0)\n",
    "\n",
    "    teamDict[awayteam]['games'] += 1\n",
    "    teamDict[hometeam]['games'] += 1"
   ]
  },
  {
   "cell_type": "code",
   "execution_count": 4,
   "metadata": {},
   "outputs": [],
   "source": [
    "df['AwayWins'] = (df['AwayWins'] - df['AwayWins'].mean()) / df['AwayWins'].std()\n",
    "df['AwaySpread'] = (df['AwaySpread'] - df['AwaySpread'].mean()) / df['AwaySpread'].std()\n",
    "df['AwayReturns'] = (df['AwayReturns'] - df['AwayReturns'].mean()) / df['AwayReturns'].std()\n",
    "df['HomeWins'] = (df['HomeWins'] - df['HomeWins'].mean()) / df['HomeWins'].std()\n",
    "df['HomeSpread'] = (df['HomeSpread'] - df['HomeSpread'].mean()) / df['HomeSpread'].std()\n",
    "df['HomeReturns'] = (df['HomeReturns'] - df['HomeReturns'].mean()) / df['HomeReturns'].std()"
   ]
  },
  {
   "cell_type": "code",
   "execution_count": 5,
   "metadata": {},
   "outputs": [],
   "source": [
    "df['AwayChar'] = df['AwayWins'] + df['AwaySpread'] + df['AwayReturns']\n",
    "df['HomeChar'] = df['HomeWins'] + df['HomeSpread'] + df['HomeReturns']"
   ]
  },
  {
   "cell_type": "code",
   "execution_count": 6,
   "metadata": {},
   "outputs": [],
   "source": [
    "\n",
    "chardf = df.copy(deep=True)\n",
    "chardf[(chardf.HomeGames < N) | (chardf.AwayGames < N)].index\n",
    "chardf.drop(chardf[(chardf.HomeGames < N) | (chardf.AwayGames < N)].index, inplace= True)\n",
    "#print(chardf)"
   ]
  },
  {
   "cell_type": "code",
   "execution_count": 7,
   "metadata": {},
   "outputs": [],
   "source": [
    "chardf['Momentum'] = np.where(chardf['homespreadopen'] < 0, (chardf['HomeChar'] - chardf['AwayChar']), (chardf['AwayChar'] - chardf['HomeChar']))\n",
    "chardf['games'] = chardf.groupby('date')['date'].transform('size')\n",
    "chardf['ranks'] = chardf.groupby('date')['Momentum'].rank()\n",
    "\n",
    "chardf['thresh'] = chardf.ranks / chardf.games\n",
    "chardf['buy'] = chardf['thresh'].ge(.8)\n",
    "chardf['sell'] = chardf['thresh'].le(.2)\n",
    "#chardf.to_stata('MLBSpreadChar.dta')"
   ]
  },
  {
   "cell_type": "code",
   "execution_count": 8,
   "metadata": {},
   "outputs": [],
   "source": [
    "chardf['overMom'] = chardf['HomeChar'] + chardf['AwayChar']\n",
    "chardf['overRanks'] = chardf.groupby('date')['overMom'].rank()\n",
    "\n",
    "chardf['overthresh'] = chardf.overRanks / chardf.games\n",
    "chardf['overBuy'] = chardf['overthresh'].ge(.8)\n",
    "chardf['overSell'] = chardf['overthresh'].le(.2)"
   ]
  },
  {
   "cell_type": "code",
   "execution_count": 9,
   "metadata": {},
   "outputs": [],
   "source": [
    "\n",
    "chardf['weight'] = chardf['buy'] / chardf['games'] - chardf['sell'] / chardf['games']\n",
    "chardf['smallocreturn'] = chardf['weight'] * chardf['spreadocreturn']\n",
    "chardf['smallclosereturn'] = chardf['weight'] * chardf['spreadclosereturn']\n",
    "\n",
    "chardf['smallmlocreturn'] = chardf['weight'] * chardf['mlocreturn']\n",
    "chardf['smallmlclosereturn'] = chardf['weight'] * chardf['mlclosereturn']\n",
    "\n",
    "chardf['overWeight'] = chardf['overBuy'] / chardf['games'] - chardf['overSell'] / chardf['games']\n",
    "chardf['smalloverocreturn'] = chardf['overWeight'] * chardf['overocreturn']\n",
    "chardf['smalloverclosereturn'] = chardf['overWeight'] * chardf['overclosereturn']\n",
    "\n",
    "#chardf.to_stata('NFLSpreadChar.dta')"
   ]
  },
  {
   "cell_type": "code",
   "execution_count": 24,
   "metadata": {},
   "outputs": [
    {
     "name": "stdout",
     "output_type": "stream",
     "text": [
      "spreadocreturn       -0.635111\n",
      "spreadclosereturns   -2.864507\n",
      "spreadopenreturn     -3.499618\n",
      "spreadtrading         2.229397\n",
      "dtype: float64\n",
      "spreadocreturn       -0.222208\n",
      "spreadclosereturns   -0.363030\n",
      "spreadopenreturn     -0.445648\n",
      "spreadtrading         0.250522\n",
      "dtype: float64\n",
      "{'spreadocreturn': -0.5658396639139647, 'spreadclosereturns': -0.9244358515673161, 'spreadopenreturn': -1.1348178904223074, 'spreadtrading': 0.6379399749073865}\n",
      "mlocreturn        4.404215\n",
      "mlclosereturns   -3.049725\n",
      "mlopenreturn      1.354490\n",
      "mltrading         7.453940\n",
      "dtype: float64\n",
      "mlocreturn        1.664570\n",
      "mlclosereturns   -0.525906\n",
      "mlopenreturn      0.231054\n",
      "mltrading         1.088518\n",
      "dtype: float64\n",
      "{'mlocreturn': 4.238733982033246, 'mlclosereturns': -1.3391905653562703, 'mlopenreturn': 0.5883671035484977, 'mltrading': 2.7718495438676656}\n"
     ]
    }
   ],
   "source": [
    "weights  = chardf[chardf.weight != 0]\n",
    "\n",
    "NFLmomspreadret = pd.DataFrame(weights.groupby('date')['smallocreturn'].sum())\n",
    "NFLmomspreadret.rename(columns = {'smallocreturn':'spreadocreturn'}, inplace=True)\n",
    "NFLmomspreadret['spreadclosereturns'] = weights.groupby('date')['smallclosereturn'].sum()\n",
    "NFLmomspreadret['spreadopenreturn'] = NFLmomspreadret['spreadocreturn'] + NFLmomspreadret['spreadclosereturns']\n",
    "NFLmomspreadret['spreadtrading'] = NFLmomspreadret['spreadocreturn'] - NFLmomspreadret['spreadclosereturns']\n",
    "\n",
    "means = NFLmomspreadret.mean()*GAMES * 2/5\n",
    "std = NFLmomspreadret.std() * np.sqrt(GAMES) * np.sqrt(2/5)\n",
    "print(means)\n",
    "print(means / std)\n",
    "\n",
    "returns = ['spreadocreturn', 'spreadclosereturns', 'spreadopenreturn', 'spreadtrading']\n",
    "tstats = {}\n",
    "for x in returns:\n",
    "    tstats[x] = sm.ols(formula=\"{}~1\".format(x), data = NFLmomspreadret).fit().tvalues['Intercept']\n",
    "print(tstats)\n",
    "\n",
    "NFLmommlret = pd.DataFrame(weights.groupby('date')['smallmlocreturn'].sum())\n",
    "NFLmommlret.rename(columns = {'smallmlocreturn':'mlocreturn'}, inplace=True)\n",
    "NFLmommlret['mlclosereturns'] = weights.groupby('date')['smallmlclosereturn'].sum()\n",
    "NFLmommlret['mlopenreturn'] = NFLmommlret['mlocreturn'] + NFLmommlret['mlclosereturns']\n",
    "NFLmommlret['mltrading'] = NFLmommlret['mlocreturn'] - NFLmommlret['mlclosereturns']\n",
    "means = NFLmommlret.mean()*GAMES * 2/5\n",
    "std = NFLmommlret.std() * np.sqrt(GAMES) * np.sqrt(2/5)\n",
    "print(means)\n",
    "print(means / std)\n",
    "\n",
    "returns = ['mlocreturn', 'mlclosereturns', 'mlopenreturn', 'mltrading']\n",
    "tstats = {}\n",
    "for x in returns:\n",
    "    tstats[x] = sm.ols(formula=\"{}~1\".format(x), data = NFLmommlret).fit().tvalues['Intercept']\n",
    "print(tstats)\n"
   ]
  },
  {
   "cell_type": "code",
   "execution_count": 25,
   "metadata": {},
   "outputs": [
    {
     "name": "stdout",
     "output_type": "stream",
     "text": [
      "overocreturn       -1.719013\n",
      "overclosereturns   -5.173183\n",
      "overopenreturn     -6.892196\n",
      "overtrading         3.454169\n",
      "dtype: float64\n",
      "overocreturn       -0.669838\n",
      "overclosereturns   -0.651860\n",
      "overopenreturn     -0.879030\n",
      "overtrading         0.391971\n",
      "dtype: float64\n",
      "{'overocreturn': -1.705704651453798, 'overclosereturns': -1.6599247004331277, 'overopenreturn': -2.238400066139496, 'overtrading': 0.998131657453621}\n"
     ]
    }
   ],
   "source": [
    "overweights  = chardf[chardf.overWeight != 0]\n",
    "NFLmomoverret = pd.DataFrame(overweights.groupby('date')['smalloverocreturn'].sum())\n",
    "NFLmomoverret.rename(columns = {'smalloverocreturn':'overocreturn'}, inplace=True)\n",
    "NFLmomoverret['overclosereturns'] = overweights.groupby('date')['smalloverclosereturn'].sum() \n",
    "NFLmomoverret['overopenreturn'] = NFLmomoverret['overocreturn'] + NFLmomoverret['overclosereturns']\n",
    "NFLmomoverret['overtrading'] = NFLmomoverret['overocreturn'] - NFLmomoverret['overclosereturns']\n",
    "\n",
    "means = NFLmomoverret.mean()*GAMES * 2/5\n",
    "std = NFLmomoverret.std() * np.sqrt(GAMES) * np.sqrt(2/5)\n",
    "print(means)\n",
    "print(means / std)\n",
    "\n",
    "returns = ['overocreturn', 'overclosereturns', 'overopenreturn', 'overtrading']\n",
    "tstats = {}\n",
    "for x in returns:\n",
    "    tstats[x] = sm.ols(formula=\"{}~1\".format(x), data = NFLmomoverret).fit().tvalues['Intercept']\n",
    "print(tstats)"
   ]
  }
 ],
 "metadata": {
  "kernelspec": {
   "display_name": "Python 3",
   "language": "python",
   "name": "python3"
  },
  "language_info": {
   "codemirror_mode": {
    "name": "ipython",
    "version": 3
   },
   "file_extension": ".py",
   "mimetype": "text/x-python",
   "name": "python",
   "nbconvert_exporter": "python",
   "pygments_lexer": "ipython3",
   "version": "3.11.0"
  },
  "orig_nbformat": 4
 },
 "nbformat": 4,
 "nbformat_minor": 2
}
