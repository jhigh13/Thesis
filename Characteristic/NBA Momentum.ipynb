{
 "cells": [
  {
   "cell_type": "code",
   "execution_count": 5,
   "metadata": {},
   "outputs": [],
   "source": [
    "import pandas as pd\n",
    "import numpy as np\n",
    "import statsmodels.formula.api as sm\n",
    "\n",
    "df = pd.read_stata('Returns/NBA/NBAFavReturnsnovig.dta')\n",
    "df['AwayWins'] = 0\n",
    "df['AwaySpread'] = 0\n",
    "df['AwayReturns'] = 0\n",
    "df['HomeWins'] = 0\n",
    "df['HomeSpread'] = 0\n",
    "df['HomeReturns'] = 0\n",
    "\n",
    "\n",
    "teams = pd.concat([df['awayteam'],df['hometeam']]).unique()\n",
    "teamDict = {}\n",
    "for team in teams:\n",
    "    teamDict[team] = {'wins':[], 'spread':[], 'returns':[], 'games':0}\n",
    "\n",
    "df['year'] = df['date'] //10000\n",
    "#print(df['awayspreadopenodds'])"
   ]
  },
  {
   "cell_type": "code",
   "execution_count": 6,
   "metadata": {},
   "outputs": [],
   "source": [
    "year = 2006\n",
    "momentum = ['wins', 'spread', 'returns']\n",
    "GAMES = 1230\n",
    "N = 4"
   ]
  },
  {
   "cell_type": "code",
   "execution_count": 7,
   "metadata": {},
   "outputs": [],
   "source": [
    "for index, row in df.iterrows():\n",
    "    awayteam = row['awayteam']\n",
    "    hometeam = row['hometeam']\n",
    "\n",
    "    curyear = row['year']\n",
    "    if curyear != year:\n",
    "        year = curyear\n",
    "        for team in teamDict: \n",
    "            for x in momentum:\n",
    "                for i in range(len(teamDict[team][x])):\n",
    "                    teamDict[team][x].pop(0)\n",
    "            teamDict[team]['games'] = 0\n",
    "\n",
    "    wins = 0\n",
    "    spread = 0\n",
    "    returns = 0\n",
    "    for i in range(len(teamDict[awayteam]['wins'])):\n",
    "        wins += teamDict[awayteam]['wins'][i]\n",
    "        spread += teamDict[awayteam]['spread'][i]\n",
    "        returns += teamDict[awayteam]['returns'][i]\n",
    "    df.loc[[index],['AwayWins']] = (wins / N)\n",
    "    df.loc[[index],['AwaySpread']] = spread\n",
    "    df.loc[[index],['AwayReturns']] = (returns / N)\n",
    "    df.loc[[index],['AwayGames']] = teamDict[awayteam]['games']\n",
    "\n",
    "    wins = 0\n",
    "    spread = 0\n",
    "    returns = 0\n",
    "    for i in range(len(teamDict[hometeam]['wins'])):\n",
    "        wins += teamDict[hometeam]['wins'][i]\n",
    "        spread += teamDict[hometeam]['spread'][i]\n",
    "        returns += teamDict[hometeam]['returns'][i]\n",
    "    df.loc[[index],['HomeWins']] = (wins / N)\n",
    "    df.loc[[index],['HomeSpread']] = spread\n",
    "    df.loc[[index],['HomeReturns']] = (returns / N)\n",
    "    df.loc[[index],['HomeGames']] = teamDict[hometeam]['games']\n",
    "\n",
    "    if len(teamDict[awayteam]['wins']) > N-1:\n",
    "        teamDict[awayteam]['wins'].pop(0)\n",
    "        teamDict[awayteam]['spread'].pop(0)\n",
    "        teamDict[awayteam]['returns'].pop(0)\n",
    "    if len(teamDict[hometeam]['wins']) > N-1:\n",
    "        teamDict[hometeam]['wins'].pop(0)\n",
    "        teamDict[hometeam]['spread'].pop(0)\n",
    "        teamDict[hometeam]['returns'].pop(0)\n",
    "\n",
    "\n",
    "    if row['awayscore'] > row['homescore']:\n",
    "        teamDict[awayteam]['wins'].append(1)\n",
    "        teamDict[hometeam]['wins'].append(0)\n",
    "        \n",
    "    else:\n",
    "        teamDict[hometeam]['wins'].append(1)\n",
    "        teamDict[awayteam]['wins'].append(0)\n",
    "\n",
    "\n",
    "    teamDict[awayteam]['spread'].append(row['awayscore'] - row['homescore'])\n",
    "    teamDict[hometeam]['spread'].append(row['homescore'] - row['awayscore'])\n",
    "\n",
    "    if row['homescore'] - row['awayscore'] > -1 * row['homespreadopen']:\n",
    "        teamDict[hometeam]['returns'].append(1)\n",
    "        teamDict[awayteam]['returns'].append(0)\n",
    "    elif row['homescore'] - row['awayscore'] == -1 * row['homespreadopen']: \n",
    "        teamDict[hometeam]['returns'].append(.5)\n",
    "        teamDict[awayteam]['returns'].append(.5)\n",
    "    else:\n",
    "        teamDict[awayteam]['returns'].append(1)\n",
    "        teamDict[hometeam]['returns'].append(0)\n",
    "\n",
    "    teamDict[awayteam]['games'] += 1\n",
    "    teamDict[hometeam]['games'] += 1"
   ]
  },
  {
   "cell_type": "code",
   "execution_count": 8,
   "metadata": {},
   "outputs": [],
   "source": [
    "df['AwayWins'] = (df['AwayWins'] - df['AwayWins'].mean()) / df['AwayWins'].std()\n",
    "df['AwaySpread'] = (df['AwaySpread'] - df['AwaySpread'].mean()) / df['AwaySpread'].std()\n",
    "df['AwayReturns'] = (df['AwayReturns'] - df['AwayReturns'].mean()) / df['AwayReturns'].std()\n",
    "df['HomeWins'] = (df['HomeWins'] - df['HomeWins'].mean()) / df['HomeWins'].std()\n",
    "df['HomeSpread'] = (df['HomeSpread'] - df['HomeSpread'].mean()) / df['HomeSpread'].std()\n",
    "df['HomeReturns'] = (df['HomeReturns'] - df['HomeReturns'].mean()) / df['HomeReturns'].std()"
   ]
  },
  {
   "cell_type": "code",
   "execution_count": 9,
   "metadata": {},
   "outputs": [],
   "source": [
    "df['AwayChar'] = df['AwayWins'] + df['AwaySpread'] + df['AwayReturns']\n",
    "df['HomeChar'] = df['HomeWins'] + df['HomeSpread'] + df['HomeReturns']"
   ]
  },
  {
   "cell_type": "code",
   "execution_count": null,
   "metadata": {},
   "outputs": [],
   "source": [
    "chardf = df.copy(deep=True)\n",
    "chardf[(chardf.HomeGames < N) | (chardf.AwayGames < N)].index\n",
    "chardf.drop(chardf[(chardf.HomeGames < N) | (chardf.AwayGames < N)].index, inplace= True)"
   ]
  },
  {
   "cell_type": "code",
   "execution_count": 11,
   "metadata": {},
   "outputs": [],
   "source": [
    "chardf['Momentum'] = np.where(chardf['homespreadopen'] < 0, (chardf['HomeChar'] - chardf['AwayChar']), (chardf['AwayChar'] - chardf['HomeChar']))\n",
    "chardf['games'] = chardf.groupby('date')['date'].transform('size')\n",
    "chardf['ranks'] = chardf.groupby('date')['Momentum'].rank()\n",
    "\n",
    "chardf['thresh'] = chardf.ranks / chardf.games\n",
    "chardf['buy'] = chardf['thresh'].ge(.8)\n",
    "chardf['sell'] = chardf['thresh'].le(.2)\n",
    "#chardf.to_stata('MLBSpreadChar.dta')"
   ]
  },
  {
   "cell_type": "code",
   "execution_count": 12,
   "metadata": {},
   "outputs": [],
   "source": [
    "chardf['overMom'] = chardf['HomeChar'] + chardf['AwayChar']\n",
    "chardf['overRanks'] = chardf.groupby('date')['overMom'].rank()\n",
    "\n",
    "chardf['overthresh'] = chardf.overRanks / chardf.games\n",
    "chardf['overBuy'] = chardf['overthresh'].ge(.8)\n",
    "chardf['overSell'] = chardf['overthresh'].le(.2)"
   ]
  },
  {
   "cell_type": "code",
   "execution_count": 13,
   "metadata": {},
   "outputs": [],
   "source": [
    "\n",
    "chardf['weight'] = chardf['buy'] / chardf['games'] - chardf['sell'] / chardf['games']\n",
    "chardf['smallocreturn'] = chardf['weight'] * chardf['spreadocreturn']\n",
    "chardf['smallclosereturn'] = chardf['weight'] * chardf['spreadclosereturn']\n",
    "\n",
    "chardf['overWeight'] = chardf['overBuy'] / chardf['games'] - chardf['overSell'] / chardf['games']\n",
    "chardf['smalloverocreturn'] = chardf['overWeight'] * chardf['overocreturn']\n",
    "chardf['smalloverclosereturn'] = chardf['overWeight'] * chardf['overclosereturn']\n",
    "\n",
    "chardf.to_stata('NBASpreadChar.dta')"
   ]
  },
  {
   "cell_type": "code",
   "execution_count": 14,
   "metadata": {},
   "outputs": [
    {
     "name": "stdout",
     "output_type": "stream",
     "text": [
      "spreadocreturn        6.671246\n",
      "spreadclosereturns    1.178428\n",
      "spreadopenreturn      7.849674\n",
      "spreadtrading         5.492818\n",
      "dtype: float64\n",
      "spreadocreturn        1.261974\n",
      "spreadclosereturns    0.123123\n",
      "spreadopenreturn      0.819222\n",
      "spreadtrading         0.452590\n",
      "dtype: float64\n",
      "{'spreadocreturn': 3.254924659760973, 'spreadclosereturns': 0.3175632851893764, 'spreadopenreturn': 2.112964078351039, 'spreadtrading': 1.1673356047178332}\n"
     ]
    }
   ],
   "source": [
    "weights  = chardf[chardf.weight != 0]\n",
    "\n",
    "NBAmomspreadret = pd.DataFrame(weights.groupby('date')['smallocreturn'].sum())\n",
    "NBAmomspreadret.rename(columns = {'smallocreturn':'spreadocreturn'}, inplace=True)\n",
    "NBAmomspreadret['spreadclosereturns'] = weights.groupby('date')['smallclosereturn'].sum()\n",
    "NBAmomspreadret['spreadopenreturn'] = NBAmomspreadret['spreadocreturn'] + NBAmomspreadret['spreadclosereturns']\n",
    "NBAmomspreadret['spreadtrading'] = NBAmomspreadret['spreadocreturn'] - NBAmomspreadret['spreadclosereturns']\n",
    "\n",
    "means = NBAmomspreadret.mean()*GAMES * 2/5\n",
    "std = NBAmomspreadret.std() * np.sqrt(GAMES) * np.sqrt(2/5)\n",
    "print(means)\n",
    "print(means / std)\n",
    "\n",
    "returns = ['spreadocreturn', 'spreadclosereturns', 'spreadopenreturn', 'spreadtrading']\n",
    "tstats = {}\n",
    "for x in returns:\n",
    "    tstats[x] = sm.ols(formula=\"{}~1\".format(x), data = NBAmomspreadret).fit().tvalues['Intercept']\n",
    "print(tstats)"
   ]
  },
  {
   "cell_type": "code",
   "execution_count": 26,
   "metadata": {},
   "outputs": [
    {
     "name": "stdout",
     "output_type": "stream",
     "text": [
      "overocreturn       -1.889427\n",
      "overclosereturns   -3.813448\n",
      "overopenreturn     -5.702875\n",
      "overtrading         1.924022\n",
      "dtype: float64\n",
      "overocreturn       -0.513464\n",
      "overclosereturns   -0.393820\n",
      "overopenreturn     -0.589044\n",
      "overtrading         0.174999\n",
      "dtype: float64\n",
      "{'overocreturn': -1.3243426375767702, 'overclosereturns': -1.0157542642500574, 'overopenreturn': -1.5192811631496295, 'overtrading': 0.4513642701030753}\n"
     ]
    }
   ],
   "source": [
    "overweights  = chardf[chardf.overWeight != 0]\n",
    "NBAmomoverret = pd.DataFrame(overweights.groupby('date')['smalloverocreturn'].sum())\n",
    "NBAmomoverret.rename(columns = {'smalloverocreturn':'overocreturn'}, inplace=True)\n",
    "NBAmomoverret['overclosereturns'] = overweights.groupby('date')['smalloverclosereturn'].sum() \n",
    "NBAmomoverret['overopenreturn'] = NBAmomoverret['overocreturn'] + NBAmomoverret['overclosereturns']\n",
    "NBAmomoverret['overtrading'] = NBAmomoverret['overocreturn'] - NBAmomoverret['overclosereturns']\n",
    "\n",
    "means = NBAmomoverret.mean()*GAMES * 2/5\n",
    "std = NBAmomoverret.std() * np.sqrt(GAMES) * np.sqrt(2/5)\n",
    "print(means)\n",
    "print(means / std)\n",
    "\n",
    "returns = ['overocreturn', 'overclosereturns', 'overopenreturn', 'overtrading']\n",
    "tstats = {}\n",
    "for x in returns:\n",
    "    tstats[x] = sm.ols(formula=\"{}~1\".format(x), data = NBAmomoverret).fit().tvalues['Intercept']\n",
    "print(tstats)\n",
    "\n",
    "#NBAmomret.to_stata('NBATrading.dta')"
   ]
  }
 ],
 "metadata": {
  "kernelspec": {
   "display_name": "Python 3",
   "language": "python",
   "name": "python3"
  },
  "language_info": {
   "codemirror_mode": {
    "name": "ipython",
    "version": 3
   },
   "file_extension": ".py",
   "mimetype": "text/x-python",
   "name": "python",
   "nbconvert_exporter": "python",
   "pygments_lexer": "ipython3",
   "version": "3.11.0"
  },
  "orig_nbformat": 4
 },
 "nbformat": 4,
 "nbformat_minor": 2
}
