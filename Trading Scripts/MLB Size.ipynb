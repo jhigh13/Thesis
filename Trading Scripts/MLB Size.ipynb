{
 "cells": [
  {
   "cell_type": "code",
   "execution_count": 1,
   "metadata": {},
   "outputs": [
    {
     "name": "stdout",
     "output_type": "stream",
     "text": [
      "['ATL' 'NYM' 'CLE' 'COL' 'NYY' 'WSH' 'PIT' 'LAD' 'CHC' 'DET' 'SEA' 'OAK'\n",
      " 'KC' 'TB' 'MIL' 'TEX' 'TOR' 'PHI' 'MIN' 'HOU' 'BOS' 'SF' 'CHW' 'SD' 'CIN'\n",
      " 'BAL' 'SLC' 'LAA' 'MIA' 'ARI']\n"
     ]
    }
   ],
   "source": [
    "import pandas as pd\n",
    "import numpy as np\n",
    "import statsmodels.formula.api as sm\n",
    "\n",
    "df = pd.read_stata('Returns/MLB/MLBHomeReturnsnovig.dta')\n",
    "df['AwayValue'] = 0\n",
    "df['AwayRev'] = 0\n",
    "df['HomeValue'] = 0\n",
    "df['HomeRev'] = 0\n",
    "\n",
    "dropteams = ['American', 'National', 'AL', 'NL', 'STF', 'ALT', 'STF']\n",
    "\n",
    "df = df[~df['awayteam'].isin(dropteams)]\n",
    "df = df[~df['hometeam'].isin(dropteams)]\n",
    "teams = pd.concat([df['awayteam'],df['hometeam']]).unique()\n",
    "\n",
    "teamDict = {}\n",
    "for team in teams:\n",
    "    teamDict[team] = {'pfor':[], 'pagainst':[], 'lagreturns':0, 'seasonret': 0}\n",
    "\n",
    "df['year'] = df['date'] //10000"
   ]
  },
  {
   "cell_type": "code",
   "execution_count": 2,
   "metadata": {},
   "outputs": [],
   "source": [
    "values = pd.read_excel('MLB Size.xlsx', sheet_name= 'Val', index_col=0)\n",
    "revs = pd.read_excel('MLB Size.xlsx', sheet_name='Rev', index_col=0)"
   ]
  },
  {
   "cell_type": "code",
   "execution_count": 3,
   "metadata": {},
   "outputs": [],
   "source": [
    "year = 2009\n",
    "GAMES = 2430\n",
    "N = 5"
   ]
  },
  {
   "cell_type": "code",
   "execution_count": 4,
   "metadata": {},
   "outputs": [],
   "source": [
    "for index, row in df.iterrows():\n",
    "    awayteam = row['awayteam']\n",
    "    hometeam = row['hometeam']\n",
    "\n",
    "    curyear = row['year']\n",
    "    \n",
    "    df.loc[[index], ['HomeValue']] = values.at[hometeam, year]\n",
    "    df.loc[[index], ['HomeRev']] = revs.at[hometeam, year]\n",
    "\n",
    "    df.loc[[index], ['AwayValue']] = values.at[awayteam, year]\n",
    "    df.loc[[index], ['AwayRev']] = revs.at[awayteam, year]    "
   ]
  },
  {
   "cell_type": "code",
   "execution_count": 5,
   "metadata": {},
   "outputs": [],
   "source": [
    "df['HomeValue'] = (df['HomeValue'] - df['HomeValue'].mean()) / df['HomeValue'].std()\n",
    "df['HomeRev'] = (df['HomeRev'] - df['HomeRev'].mean()) / df['HomeRev'].std()\n",
    "df['AwayValue'] = (df['AwayValue'] - df['AwayValue'].mean()) / df['AwayValue'].std()\n",
    "df['AwayRev'] = (df['AwayRev'] - df['AwayRev'].mean()) / df['AwayRev'].std()"
   ]
  },
  {
   "cell_type": "code",
   "execution_count": 6,
   "metadata": {},
   "outputs": [],
   "source": [
    "df['HomeChar'] = df['HomeValue'] + df['HomeRev']\n",
    "df['AwayChar'] = df['AwayValue'] + df['AwayValue']"
   ]
  },
  {
   "cell_type": "code",
   "execution_count": 7,
   "metadata": {},
   "outputs": [],
   "source": [
    "chardf = df.copy(deep=True)\n",
    "chardf.drop(chardf[(chardf.year == 2009)].index, inplace= True)"
   ]
  },
  {
   "cell_type": "code",
   "execution_count": 8,
   "metadata": {},
   "outputs": [],
   "source": [
    "chardf['Size'] = df['HomeChar'] - df['AwayChar']\n",
    "chardf['games'] = chardf.groupby('date')['date'].transform('size')\n",
    "chardf['ranks'] = chardf.groupby('date')['Size'].rank()\n",
    "test = chardf.drop(chardf[chardf.games < N].index, inplace = True)\n",
    "\n",
    "chardf['thresh'] = chardf.ranks / chardf.games\n",
    "chardf['buy'] = chardf['thresh'].ge(.8)\n",
    "chardf['sell'] = chardf['thresh'].le(.2)\n",
    "#chardf.to_stata('MLBSpreadChar.dta')"
   ]
  },
  {
   "cell_type": "code",
   "execution_count": 9,
   "metadata": {},
   "outputs": [],
   "source": [
    "chardf['overSize'] = chardf['HomeChar'] + df['AwayChar']\n",
    "chardf['overRanks'] = chardf.groupby('date')['overSize'].rank()\n",
    "\n",
    "chardf['overthresh'] = chardf.overRanks / chardf.games\n",
    "chardf['overBuy'] = chardf['overthresh'].ge(.8)\n",
    "chardf['overSell'] = chardf['overthresh'].le(.2)"
   ]
  },
  {
   "cell_type": "code",
   "execution_count": 10,
   "metadata": {},
   "outputs": [],
   "source": [
    "chardf['weight'] = chardf['buy'] / chardf['games'] - chardf['sell'] / chardf['games']\n",
    "chardf['smallocreturn'] = chardf['weight'] * chardf['mlhomeOCreturn']\n",
    "chardf['smallclosereturn'] = chardf['weight'] * chardf['mlhomeclosereturn']\n",
    "\n",
    "chardf['overWeight'] = chardf['overBuy'] / chardf['games'] - chardf['overSell'] / chardf['games']\n",
    "chardf['smalloverocreturn'] = chardf['overWeight'] * chardf['overOCreturn']\n",
    "chardf['smalloverclosereturn'] = chardf['overWeight'] * chardf['overclosereturn']\n",
    "\n",
    "chardf.to_stata('MLBsizeChar.dta')"
   ]
  },
  {
   "cell_type": "code",
   "execution_count": 11,
   "metadata": {},
   "outputs": [
    {
     "name": "stdout",
     "output_type": "stream",
     "text": [
      "mlocreturn       -0.314604\n",
      "mlclosereturns    2.374545\n",
      "mlopenreturn      2.059941\n",
      "mltrading        -2.689148\n",
      "dtype: float64\n",
      "mlocreturn       -0.602431\n",
      "mlclosereturns    0.432984\n",
      "mlopenreturn      0.376892\n",
      "mltrading        -0.484362\n",
      "dtype: float64\n",
      "{'mlocreturn': -0.921242601542379, 'mlclosereturns': 0.6621232511152155, 'mlopenreturn': 0.576346026805342, 'mltrading': -0.7406896300219754}\n"
     ]
    }
   ],
   "source": [
    "weights  = chardf[chardf.weight != 0]\n",
    "\n",
    "MLBmlsizeret = pd.DataFrame(weights.groupby('date')['smallocreturn'].sum())\n",
    "MLBmlsizeret.rename(columns = {'smallocreturn':'mlocreturn'}, inplace=True)\n",
    "MLBmlsizeret['mlclosereturns'] = weights.groupby('date')['smallclosereturn'].sum()\n",
    "MLBmlsizeret['mlopenreturn'] = MLBmlsizeret['mlocreturn'] + MLBmlsizeret['mlclosereturns']\n",
    "MLBmlsizeret['mltrading'] = MLBmlsizeret['mlocreturn'] - MLBmlsizeret['mlclosereturns']\n",
    "means = MLBmlsizeret.mean()*GAMES * 2/5\n",
    "std = MLBmlsizeret.std() * np.sqrt(GAMES) * np.sqrt(2/5)\n",
    "print(means)\n",
    "print(means / std)\n",
    "\n",
    "returns = ['mlocreturn', 'mlclosereturns', 'mlopenreturn', 'mltrading']\n",
    "tstats = {} \n",
    "for x in returns:\n",
    "    tstats[x] = sm.ols(formula=\"{}~1\".format(x), data = MLBmlsizeret).fit().tvalues['Intercept']\n",
    "print(tstats)"
   ]
  },
  {
   "cell_type": "code",
   "execution_count": 12,
   "metadata": {},
   "outputs": [
    {
     "name": "stdout",
     "output_type": "stream",
     "text": [
      "overocreturn        1.159200\n",
      "overclosereturns   -3.905277\n",
      "overopenreturn     -2.746078\n",
      "overtrading         5.064477\n",
      "dtype: float64\n",
      "overocreturn        0.731282\n",
      "overclosereturns   -0.686689\n",
      "overopenreturn     -0.482334\n",
      "overtrading         0.829260\n",
      "dtype: float64\n",
      "{'overocreturn': 1.1182820426355091, 'overclosereturns': -1.0500904447230333, 'overopenreturn': -0.737589444385228, 'overtrading': 1.268111133757384}\n"
     ]
    }
   ],
   "source": [
    "overweights  = chardf[chardf.overWeight != 0]\n",
    "MLBoversizeret = pd.DataFrame(overweights.groupby('date')['smalloverocreturn'].sum())\n",
    "MLBoversizeret.rename(columns = {'smalloverocreturn':'overocreturn'}, inplace=True)\n",
    "MLBoversizeret['overclosereturns'] = overweights.groupby('date')['smalloverclosereturn'].sum() \n",
    "MLBoversizeret['overopenreturn'] = MLBoversizeret['overocreturn'] + MLBoversizeret['overclosereturns']\n",
    "MLBoversizeret['overtrading'] = MLBoversizeret['overocreturn'] - MLBoversizeret['overclosereturns']\n",
    "\n",
    "means = MLBoversizeret.mean()*GAMES * 2/5\n",
    "std = MLBoversizeret.std() * np.sqrt(GAMES) * np.sqrt(2/5)\n",
    "print(means)\n",
    "print(means / std)\n",
    "\n",
    "\n",
    "returns = ['overocreturn', 'overclosereturns', 'overopenreturn', 'overtrading']\n",
    "tstats = {}\n",
    "for x in returns:\n",
    "    tstats[x] = sm.ols(formula=\"{}~1\".format(x), data = MLBoversizeret).fit().tvalues['Intercept']\n",
    "print(tstats)\n",
    "\n",
    "#MLBoversizeret.to_stata('MLBSizeTrading.dta')"
   ]
  }
 ],
 "metadata": {
  "kernelspec": {
   "display_name": "Python 3",
   "language": "python",
   "name": "python3"
  },
  "language_info": {
   "codemirror_mode": {
    "name": "ipython",
    "version": 3
   },
   "file_extension": ".py",
   "mimetype": "text/x-python",
   "name": "python",
   "nbconvert_exporter": "python",
   "pygments_lexer": "ipython3",
   "version": "3.11.0"
  },
  "orig_nbformat": 4
 },
 "nbformat": 4,
 "nbformat_minor": 2
}
